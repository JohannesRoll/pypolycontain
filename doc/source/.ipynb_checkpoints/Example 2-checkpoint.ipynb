{
 "cells": [
  {
   "cell_type": "markdown",
   "metadata": {},
   "source": [
    "# Example 1: The Necessity Gap for Minkowski Sums"
   ]
  },
  {
   "cell_type": "markdown",
   "metadata": {},
   "source": [
    "In this example, we look for an instance of the following problem. We are given two H-polytopes $A,B$. We manually find the H-polytope form of $C:=A \\oplus B$. Now we want to check if $$ C \\subseteq A \\oplus B \\subseteq C$$ \n",
    "\n",
    "Let $A$ be a triangle."
   ]
  },
  {
   "cell_type": "code",
   "execution_count": 6,
   "metadata": {
    "scrolled": true
   },
   "outputs": [
    {
     "data": {
      "image/png": "[encoded data removed]",
      "text/plain": [
       "<matplotlib.figure.Figure at 0x7fa4ac85fd30>"
      ]
     },
     "metadata": {
      "needs_background": "light"
     },
     "output_type": "display_data"
    }
   ],
   "source": [
    "import numpy as np\n",
    "import pypolycontain as pp\n",
    "import pypolycontain.objects\n",
    "import pypolycontain.visualize\n",
    "\n",
    "\n",
    "H=np.array([[1,1],[-1,1],[0,-1]])\n",
    "h=np.array([[1,1,0]]).reshape(3,1)\n",
    "p_triangle=pp.objects.H_polytope(H,h)\n",
    "\n",
    "pp.visualize.visualize([p_triangle])"
   ]
  },
  {
   "cell_type": "markdown",
   "metadata": {},
   "source": [
    "And let $B$ be a tiny rectangle at the bottom of $A$ as follows."
   ]
  },
  {
   "cell_type": "code",
   "execution_count": 3,
   "metadata": {},
   "outputs": [
    {
     "ename": "AttributeError",
     "evalue": "module 'pypolycontain' has no attribute 'objects'",
     "output_type": "error",
     "traceback": [
      "\u001b[0;31m---------------------------------------------------------------------------\u001b[0m",
      "\u001b[0;31mAttributeError\u001b[0m                            Traceback (most recent call last)",
      "\u001b[0;32m<ipython-input-3-59ac7cd3c62f>\u001b[0m in \u001b[0;36m<module>\u001b[0;34m\u001b[0m\n\u001b[1;32m      2\u001b[0m \u001b[0mH\u001b[0m\u001b[0;34m=\u001b[0m\u001b[0mnp\u001b[0m\u001b[0;34m.\u001b[0m\u001b[0marray\u001b[0m\u001b[0;34m(\u001b[0m\u001b[0;34m[\u001b[0m\u001b[0;34m[\u001b[0m\u001b[0;36m1\u001b[0m\u001b[0;34m,\u001b[0m\u001b[0;36m0\u001b[0m\u001b[0;34m]\u001b[0m\u001b[0;34m,\u001b[0m\u001b[0;34m[\u001b[0m\u001b[0;34m-\u001b[0m\u001b[0;36m1\u001b[0m\u001b[0;34m,\u001b[0m\u001b[0;36m0\u001b[0m\u001b[0;34m]\u001b[0m\u001b[0;34m,\u001b[0m\u001b[0;34m[\u001b[0m\u001b[0;36m0\u001b[0m\u001b[0;34m,\u001b[0m\u001b[0;34m-\u001b[0m\u001b[0;36m1\u001b[0m\u001b[0;34m]\u001b[0m\u001b[0;34m,\u001b[0m\u001b[0;34m[\u001b[0m\u001b[0;36m0\u001b[0m\u001b[0;34m,\u001b[0m\u001b[0;36m1\u001b[0m\u001b[0;34m]\u001b[0m\u001b[0;34m]\u001b[0m\u001b[0;34m)\u001b[0m\u001b[0;34m\u001b[0m\u001b[0;34m\u001b[0m\u001b[0m\n\u001b[1;32m      3\u001b[0m \u001b[0mh\u001b[0m\u001b[0;34m=\u001b[0m\u001b[0mnp\u001b[0m\u001b[0;34m.\u001b[0m\u001b[0marray\u001b[0m\u001b[0;34m(\u001b[0m\u001b[0;34m[\u001b[0m\u001b[0;34m[\u001b[0m\u001b[0me\u001b[0m\u001b[0;34m,\u001b[0m\u001b[0me\u001b[0m\u001b[0;34m,\u001b[0m\u001b[0;36m1\u001b[0m\u001b[0;34m,\u001b[0m\u001b[0;36m0\u001b[0m\u001b[0;34m]\u001b[0m\u001b[0;34m]\u001b[0m\u001b[0;34m)\u001b[0m\u001b[0;34m.\u001b[0m\u001b[0mreshape\u001b[0m\u001b[0;34m(\u001b[0m\u001b[0;36m4\u001b[0m\u001b[0;34m,\u001b[0m\u001b[0;36m1\u001b[0m\u001b[0;34m)\u001b[0m\u001b[0;34m\u001b[0m\u001b[0;34m\u001b[0m\u001b[0m\n\u001b[0;32m----> 4\u001b[0;31m \u001b[0mp_rectangle\u001b[0m\u001b[0;34m=\u001b[0m\u001b[0mpp\u001b[0m\u001b[0;34m.\u001b[0m\u001b[0mobjects\u001b[0m\u001b[0;34m.\u001b[0m\u001b[0mH_polytope\u001b[0m\u001b[0;34m(\u001b[0m\u001b[0mH\u001b[0m\u001b[0;34m,\u001b[0m\u001b[0mh\u001b[0m\u001b[0;34m,\u001b[0m\u001b[0mcolor\u001b[0m\u001b[0;34m=\u001b[0m\u001b[0;34m'purple'\u001b[0m\u001b[0;34m)\u001b[0m\u001b[0;34m\u001b[0m\u001b[0;34m\u001b[0m\u001b[0m\n\u001b[0m\u001b[1;32m      5\u001b[0m \u001b[0;34m\u001b[0m\u001b[0m\n\u001b[1;32m      6\u001b[0m \u001b[0mpp\u001b[0m\u001b[0;34m.\u001b[0m\u001b[0mvisualize\u001b[0m\u001b[0;34m.\u001b[0m\u001b[0mvisualize\u001b[0m\u001b[0;34m(\u001b[0m\u001b[0;34m[\u001b[0m\u001b[0mp_triangle\u001b[0m\u001b[0;34m,\u001b[0m\u001b[0mp_rectangle\u001b[0m\u001b[0;34m]\u001b[0m\u001b[0;34m)\u001b[0m\u001b[0;34m\u001b[0m\u001b[0;34m\u001b[0m\u001b[0m\n",
      "\u001b[0;31mAttributeError\u001b[0m: module 'pypolycontain' has no attribute 'objects'"
     ]
    }
   ],
   "source": [
    "e=0.1\n",
    "H=np.array([[1,0],[-1,0],[0,-1],[0,1]])\n",
    "h=np.array([[e,e,1,0]]).reshape(4,1)\n",
    "p_rectangle=pp.objects.H_polytope(H,h,color='purple')\n",
    "\n",
    "pp.visualize.visualize([p_triangle,p_rectangle])"
   ]
  },
  {
   "cell_type": "markdown",
   "metadata": {},
   "source": [
    "The H-polytope form of the Minkowski sum $A \\oplus B$ can be easily found. "
   ]
  },
  {
   "cell_type": "code",
   "execution_count": null,
   "metadata": {},
   "outputs": [],
   "source": [
    "e=0.1\n",
    "H=np.array([[1,0],[-1,0],[0,-1],[1,1],[-1,1],[0,1]])\n",
    "h=np.array([[1+e,1+e,1,1+e,1+e,1]]).reshape(6,1)\n",
    "p_sum=pp.objects.H_polytope(H,h,color='green')\n",
    "\n",
    "pp.visualize.visualize([p_sum],title=\"Minkowski sum of $A \\oplus B$\")"
   ]
  },
  {
   "cell_type": "markdown",
   "metadata": {},
   "source": [
    "We can also call the AH-polytope form of $A\\oplus B$."
   ]
  },
  {
   "cell_type": "code",
   "execution_count": null,
   "metadata": {},
   "outputs": [],
   "source": [
    "Q=pp.operations.minkowski_sum(p_triangle,p_rectangle)\n",
    "pp.visualize.visualize([Q],title=\"Minkowski sum of $A \\oplus B$\")"
   ]
  },
  {
   "cell_type": "markdown",
   "metadata": {},
   "source": [
    "Now we run the following experiment. We find the largest\n",
    "$$\n",
    "\\begin{array}{lll}\n",
    "\\alpha^*_N = &  \\max. & \\alpha \\\\\n",
    "& \\text{subject to} & \\alpha C \\subseteq_N (A \\oplus B)\n",
    "\\end{array}\n",
    "$$\n",
    "where for $N=-1$ the condition is necessary and sufficient and for $N=0$ it is only sufficient. \n",
    "\n",
    "What we expect is that for necessary and sufficient condition, we obtain the largest possible $\\alpha^*$, which is 1. However, as we drop necessity, we are going to observe conservatieness in the fact that $$\\alpha_i\\le 1, i \\ge 0.$$  "
   ]
  },
  {
   "cell_type": "markdown",
   "metadata": {},
   "source": [
    "### Maximzing of $\\alpha$ with subset encoding: linear program"
   ]
  },
  {
   "cell_type": "markdown",
   "metadata": {},
   "source": [
    "We import the ```mathematicalprogram``` module from ```pydrake```. As the optimization solver, we import Gurobi bindings of pydrake, but other solvers may also be used - there are often slower. "
   ]
  },
  {
   "cell_type": "code",
   "execution_count": null,
   "metadata": {},
   "outputs": [],
   "source": [
    "import pydrake.solvers.mathematicalprogram as MP\n",
    "# use Gurobi solver\n",
    "import pydrake.solvers.gurobi as Gurobi_drake\n",
    "gurobi_solver=Gurobi_drake.GurobiSolver()\n",
    "Theta={}\n",
    "for i in range(-1,4):\n",
    "    prog=MP.MathematicalProgram()\n",
    "    alpha=prog.NewContinuousVariables(1,\"alpha\")\n",
    "    p_test_H=pp.objects.H_polytope(p_sum.H,p_sum.h)\n",
    "    p_test=pp.objects.AH_polytope(T=np.eye(2)*alpha,t=np.zeros((2,1)),P=p_test_H)\n",
    "    Theta[i]=pp.containment.subset(prog,p_test,Q,N=i)\n",
    "    prog.AddLinearCost(-np.eye(1),np.zeros((1)),alpha)\n",
    "    result=gurobi_solver.Solve(prog,None,None)\n",
    "    if result.is_success():\n",
    "        print(\"%d: subset test successfull\"%i)\n",
    "        print(r\"alpha^*=\",result.GetSolution(alpha))\n",
    "    else:\n",
    "        print(\"not a subset\") "
   ]
  }
 ],
 "metadata": {
  "kernelspec": {
   "display_name": "Python 2",
   "language": "python",
   "name": "python2"
  },
  "language_info": {
   "codemirror_mode": {
    "name": "ipython",
    "version": 3
   },
   "file_extension": ".py",
   "mimetype": "text/x-python",
   "name": "python",
   "nbconvert_exporter": "python",
   "pygments_lexer": "ipython3",
   "version": "3.6.8"
  }
 },
 "nbformat": 4,
 "nbformat_minor": 2
}
