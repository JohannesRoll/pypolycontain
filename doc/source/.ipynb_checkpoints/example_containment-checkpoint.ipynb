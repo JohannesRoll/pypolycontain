{
 "cells": [
  {
   "cell_type": "markdown",
   "metadata": {},
   "source": [
    "## Necessary and Sufficiency for Containment"
   ]
  },
  {
   "cell_type": "markdown",
   "metadata": {},
   "source": [
    "Zonotopes"
   ]
  },
  {
   "cell_type": "code",
   "execution_count": 1,
   "metadata": {},
   "outputs": [],
   "source": [
    "import numpy as np\n",
    "np.random.seed(1)"
   ]
  },
  {
   "cell_type": "code",
   "execution_count": 2,
   "metadata": {},
   "outputs": [],
   "source": [
    "from pypolycontain.objects import zonotope,V_polytope,unitbox\n",
    "from pypolycontain.containment import subset\n",
    "from pypolycontain.conversions import to_V,to_AH_polytope\n",
    "from pypolycontain.visualize import visualize"
   ]
  },
  {
   "cell_type": "code",
   "execution_count": 3,
   "metadata": {},
   "outputs": [],
   "source": [
    "import pydrake.solvers.mathematicalprogram as MP\n",
    "import pydrake.solvers.gurobi as Gurobi_drake\n",
    "# use Gurobi solver\n",
    "global gurobi_solver, license\n",
    "gurobi_solver=Gurobi_drake.GurobiSolver()\n",
    "license = gurobi_solver.AcquireLicense()"
   ]
  },
  {
   "cell_type": "code",
   "execution_count": 4,
   "metadata": {},
   "outputs": [],
   "source": [
    "Z_circombody=zonotope(x=np.zeros((8,1)),G=np.random.random((8,9))-0.5,color='red')\n",
    "Z_inbody=zonotope(x=np.zeros((8,1)),G=np.random.random((8,12))-0.5)"
   ]
  },
  {
   "cell_type": "markdown",
   "metadata": {},
   "source": [
    "### Optimization\n",
    "Now we solve the following optimization problem"
   ]
  },
  {
   "cell_type": "code",
   "execution_count": 5,
   "metadata": {},
   "outputs": [
    {
     "name": "stdout",
     "output_type": "stream",
     "text": [
      "Theta Dimensions were (18, 18)\n",
      "subset test successfull\n",
      "-1 s= [0.05624848]\n",
      "Theta Dimensions were (18, 81)\n",
      "subset test successfull\n",
      "0 s= [0.05624848]\n",
      "Theta Dimensions were (18, 18)\n",
      "not a subset\n",
      "Theta Dimensions were (18, 18)\n",
      "not a subset\n",
      "Theta Dimensions were (18, 18)\n",
      "not a subset\n",
      "Theta Dimensions were (18, 18)\n",
      "not a subset\n",
      "Theta Dimensions were (18, 18)\n",
      "not a subset\n"
     ]
    }
   ],
   "source": [
    "for i in range(7):\n",
    "    prog=MP.MathematicalProgram()\n",
    "    s=prog.NewContinuousVariables(1,\"s\")\n",
    "    Z_s=zonotope(Z_inbody.x,Z_inbody.G*s)\n",
    "    prog.AddLinearCost(-np.array([1]),np.array([0]),s)\n",
    "    subset(prog,Z_s,Z_circombody,N=i-1)\n",
    "    result=gurobi_solver.Solve(prog,None,None)\n",
    "    if result.is_success():\n",
    "        print(\"subset test successfull\")\n",
    "        print(i-1,\"s=\",result.GetSolution(s))\n",
    "    else:\n",
    "        print(\"not a subset\") "
   ]
  },
  {
   "cell_type": "code",
   "execution_count": 6,
   "metadata": {},
   "outputs": [],
   "source": [
    "# visualize([Z_circombody,zonotope(Z_inbody.x,Z_inbody.G*s[0])])"
   ]
  }
 ],
 "metadata": {
  "kernelspec": {
   "display_name": "Python 3",
   "language": "python",
   "name": "python3"
  },
  "language_info": {
   "codemirror_mode": {
    "name": "ipython",
    "version": 3
   },
   "file_extension": ".py",
   "mimetype": "text/x-python",
   "name": "python",
   "nbconvert_exporter": "python",
   "pygments_lexer": "ipython3",
   "version": "3.6.8"
  }
 },
 "nbformat": 4,
 "nbformat_minor": 2
}
