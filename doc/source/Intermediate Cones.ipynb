{
 "cells": [
  {
   "cell_type": "markdown",
   "metadata": {},
   "source": [
    "# Intermediate Cones"
   ]
  },
  {
   "cell_type": "code",
   "execution_count": 1,
   "metadata": {},
   "outputs": [],
   "source": [
    "import numpy as np\n",
    "import pypolycontain as pp\n",
    "np.random.seed(0)\n",
    "n,q_i,q_c=5,9,11\n",
    "Z_i=pp.zonotope(x=np.zeros((n,1)),G=np.random.random((n,q_i))-0.5)\n",
    "Z_c=pp.zonotope(x=np.zeros((n,1)),G=np.random.random((n,q_c))-0.5)"
   ]
  },
  {
   "cell_type": "code",
   "execution_count": 3,
   "metadata": {},
   "outputs": [],
   "source": [
    "# Z_i.G=np.array([[ 1., -4., -3.],\n",
    "#        [ 3.,  5.,  4.],\n",
    "#        [-1.,  5., -4.]])\n",
    "# Z_c.G=np.array([[-4., -4., -4.,  3.],\n",
    "#        [-1., -1.,  5., -1.],\n",
    "#        [-2.,  3., -2.,  1.]])\n",
    "circumbody=pp.to_AH_polytope(Z_c)"
   ]
  },
  {
   "cell_type": "code",
   "execution_count": 2,
   "metadata": {},
   "outputs": [
    {
     "ename": "AttributeError",
     "evalue": "module 'pypolycontain.containment' has no attribute 'extreme_rays_for_containment'",
     "output_type": "error",
     "traceback": [
      "\u001b[0;31m---------------------------------------------------------------------------\u001b[0m",
      "\u001b[0;31mAttributeError\u001b[0m                            Traceback (most recent call last)",
      "\u001b[0;32m<ipython-input-2-2c4cb7c79a67>\u001b[0m in \u001b[0;36m<module>\u001b[0;34m\u001b[0m\n\u001b[0;32m----> 1\u001b[0;31m \u001b[0mpp\u001b[0m\u001b[0;34m.\u001b[0m\u001b[0mcontainment\u001b[0m\u001b[0;34m.\u001b[0m\u001b[0mextreme_rays_for_containment\u001b[0m\u001b[0;34m(\u001b[0m\u001b[0mcircumbody\u001b[0m\u001b[0;34m,\u001b[0m\u001b[0;36m0\u001b[0m\u001b[0;34m)\u001b[0m\u001b[0;34m\u001b[0m\u001b[0;34m\u001b[0m\u001b[0m\n\u001b[0m\u001b[1;32m      2\u001b[0m \u001b[0mK\u001b[0m\u001b[0;34m=\u001b[0m\u001b[0mcircumbody\u001b[0m\u001b[0;34m.\u001b[0m\u001b[0mdim_complement\u001b[0m\u001b[0;34m\u001b[0m\u001b[0;34m\u001b[0m\u001b[0m\n\u001b[1;32m      3\u001b[0m \u001b[0mTheta\u001b[0m\u001b[0;34m=\u001b[0m\u001b[0;34m{\u001b[0m\u001b[0;34m}\u001b[0m\u001b[0;34m\u001b[0m\u001b[0;34m\u001b[0m\u001b[0m\n\u001b[1;32m      4\u001b[0m \u001b[0;32mfor\u001b[0m \u001b[0mk\u001b[0m \u001b[0;32min\u001b[0m \u001b[0mrange\u001b[0m\u001b[0;34m(\u001b[0m\u001b[0;34m-\u001b[0m\u001b[0;36m1\u001b[0m\u001b[0;34m,\u001b[0m\u001b[0mK\u001b[0m\u001b[0;34m+\u001b[0m\u001b[0;36m1\u001b[0m\u001b[0;34m)\u001b[0m\u001b[0;34m:\u001b[0m\u001b[0;34m\u001b[0m\u001b[0;34m\u001b[0m\u001b[0m\n\u001b[1;32m      5\u001b[0m     \u001b[0mTheta\u001b[0m\u001b[0;34m[\u001b[0m\u001b[0mk\u001b[0m\u001b[0;34m]\u001b[0m\u001b[0;34m=\u001b[0m\u001b[0mpp\u001b[0m\u001b[0;34m.\u001b[0m\u001b[0mextreme_rays_for_containment\u001b[0m\u001b[0;34m(\u001b[0m\u001b[0mcircumbody\u001b[0m\u001b[0;34m,\u001b[0m\u001b[0mk\u001b[0m\u001b[0;34m)\u001b[0m\u001b[0;34m\u001b[0m\u001b[0;34m\u001b[0m\u001b[0m\n",
      "\u001b[0;31mAttributeError\u001b[0m: module 'pypolycontain.containment' has no attribute 'extreme_rays_for_containment'"
     ]
    }
   ],
   "source": [
    "pp.containment.extreme_rays_for_containment(circumbody,0)\n",
    "K=circumbody.dim_complement\n",
    "Theta={}\n",
    "for k in range(-1,K+1):\n",
    "    Theta[k]=pp.extreme_rays_for_containment(circumbody,k)\n",
    "    print(k,Theta[k].shape)"
   ]
  },
  {
   "cell_type": "code",
   "execution_count": 1,
   "metadata": {},
   "outputs": [
    {
     "ename": "NameError",
     "evalue": "name 'K' is not defined",
     "output_type": "error",
     "traceback": [
      "\u001b[0;31m---------------------------------------------------------------------------\u001b[0m",
      "\u001b[0;31mNameError\u001b[0m                                 Traceback (most recent call last)",
      "\u001b[0;32m<ipython-input-1-234b17db1343>\u001b[0m in \u001b[0;36m<module>\u001b[0;34m\u001b[0m\n\u001b[1;32m      4\u001b[0m \u001b[0mgurobi_solver\u001b[0m\u001b[0;34m=\u001b[0m\u001b[0mGurobi_drake\u001b[0m\u001b[0;34m.\u001b[0m\u001b[0mGurobiSolver\u001b[0m\u001b[0;34m(\u001b[0m\u001b[0;34m)\u001b[0m\u001b[0;34m\u001b[0m\u001b[0;34m\u001b[0m\u001b[0m\n\u001b[1;32m      5\u001b[0m \u001b[0mTheta\u001b[0m\u001b[0;34m=\u001b[0m\u001b[0;34m{\u001b[0m\u001b[0;34m}\u001b[0m\u001b[0;34m\u001b[0m\u001b[0;34m\u001b[0m\u001b[0m\n\u001b[0;32m----> 6\u001b[0;31m \u001b[0;32mfor\u001b[0m \u001b[0mi\u001b[0m \u001b[0;32min\u001b[0m \u001b[0mrange\u001b[0m\u001b[0;34m(\u001b[0m\u001b[0;34m-\u001b[0m\u001b[0;36m1\u001b[0m\u001b[0;34m,\u001b[0m\u001b[0mK\u001b[0m\u001b[0;34m+\u001b[0m\u001b[0;36m1\u001b[0m\u001b[0;34m)\u001b[0m\u001b[0;34m:\u001b[0m\u001b[0;34m\u001b[0m\u001b[0;34m\u001b[0m\u001b[0m\n\u001b[0m\u001b[1;32m      7\u001b[0m     \u001b[0mprogram\u001b[0m\u001b[0;34m=\u001b[0m\u001b[0mMP\u001b[0m\u001b[0;34m.\u001b[0m\u001b[0mMathematicalProgram\u001b[0m\u001b[0;34m(\u001b[0m\u001b[0;34m)\u001b[0m\u001b[0;34m\u001b[0m\u001b[0;34m\u001b[0m\u001b[0m\n\u001b[1;32m      8\u001b[0m     \u001b[0malpha\u001b[0m\u001b[0;34m=\u001b[0m\u001b[0mprogram\u001b[0m\u001b[0;34m.\u001b[0m\u001b[0mNewContinuousVariables\u001b[0m\u001b[0;34m(\u001b[0m\u001b[0;36m1\u001b[0m\u001b[0;34m,\u001b[0m\u001b[0;34m\"alpha\"\u001b[0m\u001b[0;34m)\u001b[0m\u001b[0;34m\u001b[0m\u001b[0;34m\u001b[0m\u001b[0m\n",
      "\u001b[0;31mNameError\u001b[0m: name 'K' is not defined"
     ]
    }
   ],
   "source": [
    "import pydrake.solvers.mathematicalprogram as MP\n",
    "# use Gurobi solver\n",
    "import pydrake.solvers.gurobi as Gurobi_drake\n",
    "gurobi_solver=Gurobi_drake.GurobiSolver()\n",
    "Theta={}\n",
    "for i in range(-1,K+1):\n",
    "    program=MP.MathematicalProgram()\n",
    "    alpha=program.NewContinuousVariables(1,\"alpha\")\n",
    "    parametric_circumbody=circumbody.copy()\n",
    "    parametric_circumbody.P.h=circumbody.P.h*alpha\n",
    "    Theta[i],*_=pp.subset(program,Z_i,parametric_circumbody,k=i)\n",
    "    program.AddLinearCost(np.eye(1),np.zeros((1)),alpha)\n",
    "    result=gurobi_solver.Solve(program,None,None)\n",
    "    if result.is_success():\n",
    "        print(\"%d: subset test successfull\"%i)\n",
    "        print(r\"alpha=\",1/result.GetSolution(alpha), \"Theta size=\",Theta[i].shape)\n",
    "    else:\n",
    "        print(\"not a subset\") "
   ]
  },
  {
   "cell_type": "code",
   "execution_count": null,
   "metadata": {},
   "outputs": [],
   "source": []
  }
 ],
 "metadata": {
  "kernelspec": {
   "display_name": "Python 3",
   "language": "python",
   "name": "python3"
  },
  "language_info": {
   "codemirror_mode": {
    "name": "ipython",
    "version": 3
   },
   "file_extension": ".py",
   "mimetype": "text/x-python",
   "name": "python",
   "nbconvert_exporter": "python",
   "pygments_lexer": "ipython3",
   "version": "3.6.9"
  }
 },
 "nbformat": 4,
 "nbformat_minor": 2
}
