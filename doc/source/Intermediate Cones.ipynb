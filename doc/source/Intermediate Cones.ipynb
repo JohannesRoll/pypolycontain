{
 "cells": [
  {
   "cell_type": "markdown",
   "metadata": {},
   "source": [
    "# Intermediate Cones"
   ]
  },
  {
   "cell_type": "code",
   "execution_count": 1,
   "metadata": {},
   "outputs": [],
   "source": [
    "import numpy as np\n",
    "import pypolycontain as pp\n",
    "np.random.seed(0)\n",
    "n,q_i,q_c=5,9,11\n",
    "Z_i=pp.zonotope(x=np.zeros((n,1)),G=np.random.random((n,q_i))-0.5)\n",
    "Z_c=pp.zonotope(x=np.zeros((n,1)),G=np.random.random((n,q_c))-0.5)"
   ]
  },
  {
   "cell_type": "code",
   "execution_count": 2,
   "metadata": {},
   "outputs": [],
   "source": [
    "# Z_i.G=np.array([[ 1., -4., -3.],\n",
    "#        [ 3.,  5.,  4.],\n",
    "#        [-1.,  5., -4.]])\n",
    "# Z_c.G=np.array([[-4., -4., -4.,  3.],\n",
    "#        [-1., -1.,  5., -1.],\n",
    "#        [-2.,  3., -2.,  1.]])\n",
    "circumbody=pp.to_AH_polytope(Z_c)"
   ]
  },
  {
   "cell_type": "code",
   "execution_count": 3,
   "metadata": {},
   "outputs": [
    {
     "name": "stdout",
     "output_type": "stream",
     "text": [
      "-1 (22, 22)\n",
      "0 (22, 671)\n",
      "1 (22, 935)\n",
      "2 (22, 935)\n",
      "3 (22, 671)\n",
      "4 (22, 341)\n",
      "5 (22, 121)\n",
      "6 (22, 22)\n"
     ]
    }
   ],
   "source": [
    "pp.containment.extreme_rays_for_containment(circumbody,0)\n",
    "K=circumbody.dim_complement\n",
    "Theta={}\n",
    "for k in range(-1,K+1):\n",
    "    Theta[k]=pp.extreme_rays_for_containment(circumbody,k)\n",
    "    print(k,Theta[k].shape)"
   ]
  },
  {
   "cell_type": "code",
   "execution_count": 4,
   "metadata": {},
   "outputs": [
    {
     "name": "stdout",
     "output_type": "stream",
     "text": [
      "-1: subset test successfull\n",
      "alpha= [0.41152581] Theta size= (22, 22)\n",
      "0: subset test successfull\n",
      "alpha= [0.41152581] Theta size= (22, 671)\n"
     ]
    },
    {
     "ename": "KeyboardInterrupt",
     "evalue": "",
     "output_type": "error",
     "traceback": [
      "\u001b[0;31m---------------------------------------------------------------------------\u001b[0m",
      "\u001b[0;31mKeyboardInterrupt\u001b[0m                         Traceback (most recent call last)",
      "\u001b[0;32m<ipython-input-4-234b17db1343>\u001b[0m in \u001b[0;36m<module>\u001b[0;34m\u001b[0m\n\u001b[1;32m      9\u001b[0m     \u001b[0mparametric_circumbody\u001b[0m\u001b[0;34m=\u001b[0m\u001b[0mcircumbody\u001b[0m\u001b[0;34m.\u001b[0m\u001b[0mcopy\u001b[0m\u001b[0;34m(\u001b[0m\u001b[0;34m)\u001b[0m\u001b[0;34m\u001b[0m\u001b[0;34m\u001b[0m\u001b[0m\n\u001b[1;32m     10\u001b[0m     \u001b[0mparametric_circumbody\u001b[0m\u001b[0;34m.\u001b[0m\u001b[0mP\u001b[0m\u001b[0;34m.\u001b[0m\u001b[0mh\u001b[0m\u001b[0;34m=\u001b[0m\u001b[0mcircumbody\u001b[0m\u001b[0;34m.\u001b[0m\u001b[0mP\u001b[0m\u001b[0;34m.\u001b[0m\u001b[0mh\u001b[0m\u001b[0;34m*\u001b[0m\u001b[0malpha\u001b[0m\u001b[0;34m\u001b[0m\u001b[0;34m\u001b[0m\u001b[0m\n\u001b[0;32m---> 11\u001b[0;31m     \u001b[0mTheta\u001b[0m\u001b[0;34m[\u001b[0m\u001b[0mi\u001b[0m\u001b[0;34m]\u001b[0m\u001b[0;34m,\u001b[0m\u001b[0;34m*\u001b[0m\u001b[0m_\u001b[0m\u001b[0;34m=\u001b[0m\u001b[0mpp\u001b[0m\u001b[0;34m.\u001b[0m\u001b[0msubset\u001b[0m\u001b[0;34m(\u001b[0m\u001b[0mprogram\u001b[0m\u001b[0;34m,\u001b[0m\u001b[0mZ_i\u001b[0m\u001b[0;34m,\u001b[0m\u001b[0mparametric_circumbody\u001b[0m\u001b[0;34m,\u001b[0m\u001b[0mk\u001b[0m\u001b[0;34m=\u001b[0m\u001b[0mi\u001b[0m\u001b[0;34m)\u001b[0m\u001b[0;34m\u001b[0m\u001b[0;34m\u001b[0m\u001b[0m\n\u001b[0m\u001b[1;32m     12\u001b[0m     \u001b[0mprogram\u001b[0m\u001b[0;34m.\u001b[0m\u001b[0mAddLinearCost\u001b[0m\u001b[0;34m(\u001b[0m\u001b[0mnp\u001b[0m\u001b[0;34m.\u001b[0m\u001b[0meye\u001b[0m\u001b[0;34m(\u001b[0m\u001b[0;36m1\u001b[0m\u001b[0;34m)\u001b[0m\u001b[0;34m,\u001b[0m\u001b[0mnp\u001b[0m\u001b[0;34m.\u001b[0m\u001b[0mzeros\u001b[0m\u001b[0;34m(\u001b[0m\u001b[0;34m(\u001b[0m\u001b[0;36m1\u001b[0m\u001b[0;34m)\u001b[0m\u001b[0;34m)\u001b[0m\u001b[0;34m,\u001b[0m\u001b[0malpha\u001b[0m\u001b[0;34m)\u001b[0m\u001b[0;34m\u001b[0m\u001b[0;34m\u001b[0m\u001b[0m\n\u001b[1;32m     13\u001b[0m     \u001b[0mresult\u001b[0m\u001b[0;34m=\u001b[0m\u001b[0mgurobi_solver\u001b[0m\u001b[0;34m.\u001b[0m\u001b[0mSolve\u001b[0m\u001b[0;34m(\u001b[0m\u001b[0mprogram\u001b[0m\u001b[0;34m,\u001b[0m\u001b[0;32mNone\u001b[0m\u001b[0;34m,\u001b[0m\u001b[0;32mNone\u001b[0m\u001b[0;34m)\u001b[0m\u001b[0;34m\u001b[0m\u001b[0;34m\u001b[0m\u001b[0m\n",
      "\u001b[0;32m~/Dropbox (MIT)/pypolycontain/pypolycontain/containment.py\u001b[0m in \u001b[0;36msubset\u001b[0;34m(program, inbody, circumbody, k, Theta, i)\u001b[0m\n\u001b[1;32m    125\u001b[0m     \u001b[0mprogram\u001b[0m\u001b[0;34m.\u001b[0m\u001b[0mAddLinearConstraint\u001b[0m\u001b[0;34m(\u001b[0m\u001b[0mnp\u001b[0m\u001b[0;34m.\u001b[0m\u001b[0mequal\u001b[0m\u001b[0;34m(\u001b[0m\u001b[0mnp\u001b[0m\u001b[0;34m.\u001b[0m\u001b[0mdot\u001b[0m\u001b[0;34m(\u001b[0m\u001b[0mLambda\u001b[0m\u001b[0;34m,\u001b[0m\u001b[0mHx\u001b[0m\u001b[0;34m)\u001b[0m\u001b[0;34m,\u001b[0m\u001b[0mnp\u001b[0m\u001b[0;34m.\u001b[0m\u001b[0mdot\u001b[0m\u001b[0;34m(\u001b[0m\u001b[0mTheta\u001b[0m\u001b[0;34m.\u001b[0m\u001b[0mT\u001b[0m\u001b[0;34m,\u001b[0m\u001b[0mnp\u001b[0m\u001b[0;34m.\u001b[0m\u001b[0mdot\u001b[0m\u001b[0;34m(\u001b[0m\u001b[0mHy\u001b[0m\u001b[0;34m,\u001b[0m\u001b[0mGamma\u001b[0m\u001b[0;34m)\u001b[0m\u001b[0;34m)\u001b[0m\u001b[0;34m,\u001b[0m\u001b[0mdtype\u001b[0m\u001b[0;34m=\u001b[0m\u001b[0;34m'object'\u001b[0m\u001b[0;34m)\u001b[0m\u001b[0;34m.\u001b[0m\u001b[0mflatten\u001b[0m\u001b[0;34m(\u001b[0m\u001b[0;34m)\u001b[0m\u001b[0;34m)\u001b[0m\u001b[0;34m\u001b[0m\u001b[0;34m\u001b[0m\u001b[0m\n\u001b[1;32m    126\u001b[0m     program.AddLinearConstraint(np.less_equal(np.dot(Lambda,hx),\\\n\u001b[0;32m--> 127\u001b[0;31m           np.dot(Theta.T,hy)+np.dot(Theta.T,np.dot(Hy,gamma)),dtype='object').flatten())\n\u001b[0m\u001b[1;32m    128\u001b[0m     \u001b[0;32mreturn\u001b[0m \u001b[0mTheta\u001b[0m\u001b[0;34m,\u001b[0m\u001b[0mLambda\u001b[0m\u001b[0;34m,\u001b[0m\u001b[0mGamma\u001b[0m\u001b[0;34m,\u001b[0m\u001b[0mgamma\u001b[0m\u001b[0;34m\u001b[0m\u001b[0;34m\u001b[0m\u001b[0m\n\u001b[1;32m    129\u001b[0m \u001b[0;34m\u001b[0m\u001b[0m\n",
      "\u001b[0;31mKeyboardInterrupt\u001b[0m: "
     ]
    }
   ],
   "source": [
    "import pydrake.solvers.mathematicalprogram as MP\n",
    "# use Gurobi solver\n",
    "import pydrake.solvers.gurobi as Gurobi_drake\n",
    "gurobi_solver=Gurobi_drake.GurobiSolver()\n",
    "Theta={}\n",
    "for i in range(-1,K+1):\n",
    "    program=MP.MathematicalProgram()\n",
    "    alpha=program.NewContinuousVariables(1,\"alpha\")\n",
    "    parametric_circumbody=circumbody.copy()\n",
    "    parametric_circumbody.P.h=circumbody.P.h*alpha\n",
    "    Theta[i],*_=pp.subset(program,Z_i,parametric_circumbody,k=i)\n",
    "    program.AddLinearCost(np.eye(1),np.zeros((1)),alpha)\n",
    "    result=gurobi_solver.Solve(program,None,None)\n",
    "    if result.is_success():\n",
    "        print(\"%d: subset test successfull\"%i)\n",
    "        print(r\"alpha=\",1/result.GetSolution(alpha), \"Theta size=\",Theta[i].shape)\n",
    "    else:\n",
    "        print(\"not a subset\") "
   ]
  }
 ],
 "metadata": {
  "kernelspec": {
   "display_name": "Python 3",
   "language": "python",
   "name": "python3"
  },
  "language_info": {
   "codemirror_mode": {
    "name": "ipython",
    "version": 3
   },
   "file_extension": ".py",
   "mimetype": "text/x-python",
   "name": "python",
   "nbconvert_exporter": "python",
   "pygments_lexer": "ipython3",
   "version": "3.6.9"
  }
 },
 "nbformat": 4,
 "nbformat_minor": 2
}
